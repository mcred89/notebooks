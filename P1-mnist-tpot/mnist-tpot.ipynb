{
 "cells": [
  {
   "cell_type": "markdown",
   "metadata": {},
   "source": [
    "# Project 1: MNIST dataset using TPOT\n",
    "\n",
    "This is my initial foray into Jupyter Notebooks, data science in Python, and machine learning. I'll be keeping detailed notes on my exploration.\n",
    "\n",
    "I will be using TPOT to train a model on the MNIST dataset. The MNIST dataset consists of hand written digit, 0-9, and their associated labels. We're teaching the model to identify these hand written digits.\n",
    "\n",
    "TPOT is an automated machine learning tool. With this tool, you set a few parameters, point it at your data, and it comes up with an optomized machine learning pipeline for your data. The idea is that we can start to play with machine learning concepts and tools without having to worry too much about the technical details of picking and optimizing a model.\n",
    "\n",
    "We'll be following the basic example in TPOT's docs just to get an initial feel then playing around with the params and data.\n",
    "\n",
    "[TPOT GitHub](https://github.com/EpistasisLab/tpot)\n",
    "[TPOT Docs](http://epistasislab.github.io/tpot/)\n",
    "\n",
    "If you want to run this code yourself and are starting from scratch, here's how to get your environment setup for this notebook:\n",
    "\n",
    "[Install Anaconda](https://www.anaconda.com/download/)\n",
    "\n",
    "The tpot installation commands:\n",
    "\n",
    "> conda install numpy scipy scikit-learn pandas\n",
    "\n",
    "> pip install update_checker tqdm stopit\n",
    "\n",
    "TPOT's official docs just say to install deap. I had to run this:\n",
    "\n",
    "> pip install deap==1.0.2.post2\n",
    "\n",
    "> pip install tpot\n",
    "\n",
    "\n",
    "Open up this notebook with:\n",
    "> jupyter notebook mnist-tpot.ipynb"
   ]
  },
  {
   "cell_type": "markdown",
   "metadata": {},
   "source": [
    "# Let's figure out TPOT\n",
    "\n",
    "#### Import your modules:\n",
    "\n",
    "You're familiar with TPOT, but we're also importing sklean here. Scikit Learn is the real workhorse here. It has the built in machine learning algorithms and tools that underlie TPOT. \n",
    "\n",
    "Note that we're cheating a bit (ok...alot) on the dataset here. Scikit Lean has built in sample data sets. These happen to include MNIST, so we're just loading that."
   ]
  },
  {
   "cell_type": "code",
   "execution_count": 1,
   "metadata": {},
   "outputs": [],
   "source": [
    "# TPOTClassifier is what will be doing the bulk of our ML work for us.\n",
    "from tpot import TPOTClassifier\n",
    "# This is the sample MNIST dataset included with sklearn.\n",
    "from sklearn.datasets import load_digits\n",
    "# We discuss the use of train_test_split in the next section.\n",
    "from sklearn.model_selection import train_test_split"
   ]
  },
  {
   "cell_type": "markdown",
   "metadata": {},
   "source": [
    "#### Load your data:\n",
    "\n",
    "In the next step we're loading the data then splitting into 4 sections. Understanding these splits is fundamental to understanding machine learning.\n",
    "\n",
    "Machine learning is really just about finding patterns in our data. But it's possible that we do too good of a job at finding patterns or find patterns that aren't really what we want. This is called overfitting.\n",
    "\n",
    "Imagine you want a model that classifies pictures of vehicles as either cars or trucks. Your model figures out that the pictures of trucks all have trees in the background and the cars don't, so that's how your model decides to detect 'car' vs 'truck'.  The problem here is that your model learned how to answer your question based on your data, but it doesn't really know how to detect what a car is.\n",
    "\n",
    "That previous example is probably a little too simple. A real ML algorithm tends to detect patterns in ways that we can't predict and aren't as clear cut as seeing trees. \n",
    "\n",
    "[Here's Google's in-depth explanation of overfitting, if you're interested](https://developers.google.com/machine-learning/crash-course/generalization/peril-of-overfitting)\n",
    "\n",
    "How do we know if we've overfit?\n",
    "\n",
    "We need training data to actually train the model and test data to make sure that we didn't just exactly learn the training data. Holding some data out for testing and validation purposes helps us prove that we didn't just overfit our model to our training data. We're using 75% of the data for training and 25% for testing.\n",
    "\n",
    "That's our first split.\n",
    "\n",
    "All of that data is then subdivided into the data (the picture. 'X' in this case) and the target (the label for the picture. Or 'y'). This is so we can tell the traning algorithm what it's trying to predict.\n",
    "\n",
    "That's our second split.\n",
    "\n",
    "Side note: We aren't actually 'looking at' pictures here. Each column in this dataset is a number representing the intensity of a pixel in the picture. Our model doesn't care what the picture literally looks like to a human. It just needs to be able to figure out a pattern in the picture."
   ]
  },
  {
   "cell_type": "code",
   "execution_count": 2,
   "metadata": {},
   "outputs": [],
   "source": [
    "# Load our data\n",
    "digits = load_digits()\n",
    "# This is where we actually get our 4 way split.\n",
    "X_train, X_test, y_train, y_test = train_test_split(digits.data, digits.target,\n",
    "                                                    train_size=0.75, test_size=0.25)"
   ]
  },
  {
   "cell_type": "markdown",
   "metadata": {},
   "source": [
    "#### Actaully creating a machine learning pipeline:\n",
    "\n",
    "This is the training example given in the TPOT docs for training. It scores a 98%, as advertised (98.66% to be exact).\n",
    "\n",
    "Let's break down what's happening here.\n",
    "\n",
    "1. TPOT has a Classifier and a Regressor class. Regressors guess a value. The classic example of this is guessing the price of a house. Classifiers are used to guess among distinct classes. The obvious example here being one of ten (0-9) possible digits. We're using TPOTClassifier. TPOT is using genetic programming to find an optimized machine learning pipeline for your data. The basics here are that TPOT trains a population (20 in our case), determines the best scoring models, then uses that information to inform what models are tested in the next generation (we're using 5 generations). The \"verbosity=2\" just gives us the nice little progress bars and updates on accuracy over the generations.\n",
    "\n",
    "2. \"tpot.fit(X_train, y_train)\" is just the equivalent of saying \"Go train. Use the training data\".\n",
    "\n",
    "3. \"tpot.score(X_test, y_test)\" is where we get to see how our model actually did. We'll get printouts of how each generation did, but this is where we actually get to see how the model works on new data.\n",
    "\n",
    "4. We save out generated pipeline to a file."
   ]
  },
  {
   "cell_type": "code",
   "execution_count": 4,
   "metadata": {
    "scrolled": true
   },
   "outputs": [
    {
     "name": "stdout",
     "output_type": "stream",
     "text": [
      "Warning: xgboost.XGBClassifier is not available and will not be used by TPOT.\n",
      "Generation 1 - Current best internal CV score: 0.962925749821777\n",
      "Generation 2 - Current best internal CV score: 0.9644405945378646\n",
      "Generation 3 - Current best internal CV score: 0.9666600833994199\n",
      "Generation 4 - Current best internal CV score: 0.9666600833994199\n",
      "Generation 5 - Current best internal CV score: 0.9858739654641543\n",
      "\n",
      "Best pipeline: LogisticRegression(PolynomialFeatures(input_matrix, degree=2, include_bias=False, interaction_only=False), C=10.0, dual=True, penalty=l2)\n",
      "0.9866666666666667\n"
     ]
    },
    {
     "data": {
      "text/plain": [
       "True"
      ]
     },
     "execution_count": 4,
     "metadata": {},
     "output_type": "execute_result"
    }
   ],
   "source": [
    "tpot = TPOTClassifier(generations=5, population_size=20, verbosity=2)\n",
    "tpot.fit(X_train, y_train)\n",
    "print(tpot.score(X_test, y_test))\n",
    "tpot.export('tpot_mnist_pipeline_v1.py')"
   ]
  },
  {
   "cell_type": "markdown",
   "metadata": {},
   "source": [
    "# Ok...what did we just do?\n",
    "\n",
    "Each generation (ever 20 pipelines) outputs the accuracy score of the top performing ML pipeline so far. So our first generation had a top performer of 96.29% and we finished out at 98.58%. \n",
    "\n",
    "Here's the really important part: Those number are only for the training data.\n",
    "\n",
    "We don't see how our model performs on the test data until the end (the `tpot.score(X_test, y_test)`). This statement prints out the top performing pipeline, runs it with the testing data, and prints your final score. This is data that your model hasn't seen yet. This is the real deal.\n",
    "\n",
    "Our model performs at 98.66% on the testing data. \n",
    "\n",
    "TPOT creates a nice little ML pipeline file at the end so that you can reproduce these results, but let's ignore that for now.\n",
    "\n",
    "\n",
    "# Let's do it big\n",
    "\n",
    "Before we actually go in depth, let's just do it big by:\n",
    "- Running it longer by upping our generations and population_size\n",
    "- Using more cores by setting n_jobs=3 (use 3 CPU cores instead of 1).\n",
    "- Saving our progress to a folder by using periodic_checkpoint_folder (just in case my Windows desktop decides it wants to reboot in the night)."
   ]
  },
  {
   "cell_type": "code",
   "execution_count": 4,
   "metadata": {},
   "outputs": [
    {
     "name": "stdout",
     "output_type": "stream",
     "text": [
      "Generation 1 - Current best internal CV score: 0.9851344299283016\n",
      "Generation 5 - Current best internal CV score: 0.9873535711606\n",
      "Generation 8 - Current best internal CV score: 0.9873671385770925\n",
      "Generation 9 - Current best internal CV score: 0.9888708984478656\n",
      "Generation 13 - Current best internal CV score: 0.9895980512222403\n",
      "Generation 16 - Current best internal CV score: 0.9896031703143171\n",
      "Generation 17 - Current best internal CV score: 0.991096262627164\n",
      "Generation 25 - Current best internal CV score: 0.9910990368600888\n",
      "Generation 26 - Current best internal CV score: 0.991828963867388\n",
      "Generation 27 - Current best internal CV score: 0.9918425312838807\n",
      "Generation 29 - Current best internal CV score: 0.992547668317347\n",
      "Generation 32 - Current best internal CV score: 0.9925724582911798\n",
      "Generation 43 - Current best internal CV score: 0.9932996110655544\n",
      "Generation 91 - Current best internal CV score: 0.9933131784820471\n",
      "Generation 162 - Current best internal CV score: 0.9933159527149715\n",
      "Generation 269 - Current best internal CV score: 0.9940458797222709\n",
      "Generation 344 - Current best internal CV score: 0.9940458797222709\n",
      "\n",
      "TPOT closed prematurely. Will use the current best pipeline.\n"
     ]
    },
    {
     "name": "stderr",
     "output_type": "stream",
     "text": [
      "                                                                                                                                                                                                                \r"
     ]
    },
    {
     "name": "stdout",
     "output_type": "stream",
     "text": [
      "\n",
      "Best pipeline: KNeighborsClassifier(RandomForestClassifier(LogisticRegression(GradientBoostingClassifier(RFE(input_matrix, criterion=entropy, max_features=0.55, n_estimators=100, step=0.15000000000000002), learning_rate=1.0, max_depth=1, max_features=0.8500000000000001, min_samples_leaf=6, min_samples_split=5, n_estimators=100, subsample=0.25), C=1.0, dual=False, penalty=l1), bootstrap=False, criterion=gini, max_features=0.7500000000000001, min_samples_leaf=14, min_samples_split=14, n_estimators=100), n_neighbors=2, p=2, weights=distance)\n",
      "0.9844444444444445\n"
     ]
    },
    {
     "data": {
      "text/plain": [
       "True"
      ]
     },
     "execution_count": 4,
     "metadata": {},
     "output_type": "execute_result"
    }
   ],
   "source": [
    "tpot = TPOTClassifier(generations=50000, population_size=200, n_jobs=3,\n",
    "                      periodic_checkpoint_folder='./mnist-tpot-checkpoint-2', verbosity=2)\n",
    "tpot.fit(X_train, y_train)\n",
    "print(tpot.score(X_test, y_test))\n",
    "tpot.export('tpot_mnist_pipeline_v2.py')"
   ]
  },
  {
   "cell_type": "markdown",
   "metadata": {},
   "source": [
    "#### Ok...too big\n",
    "\n",
    "My assumpiton with my last pipeline was that it might run for a week. At 60 hours of training it was only 1% done. This would've taken months. Time to Ctrl+C and lick my wounds.\n",
    "\n",
    "If I was doing this over again I would've set these parameters:\n",
    "\n",
    "* max_time_mins=4320\n",
    "* early_stop=150\n",
    "* \\[REMOVE\\]generations=50000\n",
    "\n",
    "The \"max_time_mins\" is the amount of time you'll allow the pipeline to run. This variable overrides generations. I would've gone with 3 days (4,320 minutes).\n",
    "\n",
    "The \"early_stop\" variable will stop TPOT if there is no improvement over the specified number of generations. This number is honeslty fairly random. Our final jumps were coming at (very roughly) every 100 generations. 150 feels like a nice, safe buffer.\n",
    "\n",
    "#### So, how'd we do?\n",
    "\n",
    "I've cut out all of the repeat generations so that you can get a better idea of the pipeline at a glance.\n",
    "\n",
    "Remember when I talked about why we seperate out some test data? This training exercise is an example of why. Let's recap:\n",
    "\n",
    "|Run Num | Training Accuracy | Testing Accuracy|\n",
    "|--------|-------------------|-----------------|\n",
    "|1       |98.59%             |98.66%           |\n",
    "|2       |99.40%             |98.44%           |\n",
    "\n",
    "In comparison to the first pipeline, our accuracy on training data was +0.81% and our accuracy on testing data was -0.22%.\n",
    "\n",
    "It turns out that our 2nd pipeline was a little too good at detecting patterns in our training data. There's not too much we can do here. TPOT doesn't have a \"chill out on the overfitting\" parameter. Our best bet is just adding more data. More data is going to mean that there's less coincidental patterns in our training subset and therefore less opportunity for overfitting.\n",
    "\n",
    "##### ....so I need to start writing down numbers?\n",
    "\n",
    "Nope! Remember how we used the built in Scikit-Learn MNIST data set? Well that's just a sample of the real thing. Scikit's data set consists of 1797, 8x8 pixel images. The real MNIST dataset is 70,000, 28x28 images.\n"
   ]
  },
  {
   "cell_type": "markdown",
   "metadata": {},
   "source": [
    "# Let's play with some data"
   ]
  },
  {
   "cell_type": "markdown",
   "metadata": {},
   "source": [
    "[Here's a link to download the MNIST data from Kaggle](https://www.kaggle.com/oddrationale/mnist-in-csv/downloads/mnist-in-csv.zip/2)\n",
    "\n",
    "If you want to follow along: I've unzipped the files into a directory named \"mnist-data\", within the same directory as this notebook. You can either download and unzip the data yourslef or just follow along in the notebook.\n",
    "\n",
    "Technically we don't need to go get the raw data ourselves. Scikit learn has functions for downloading the entire dataset, but I purposely want a more vanilla approach.\n",
    "\n",
    "Here's how you'd do it with scikit:\n",
    "```\n",
    "from sklearn.datasets import fetch_mldata\n",
    "mnist = fetch_mldata('MNIST original', data_home=mnist-data)\n",
    "```\n",
    "\n",
    "#### Ok, here we go:\n",
    "\n",
    "We going to import pandas, a data analysis python library. Pandas works in units of data called data frames. Pandas is smart enough to load the data from the CSV and understand what the column headings mean."
   ]
  },
  {
   "cell_type": "code",
   "execution_count": 2,
   "metadata": {},
   "outputs": [
    {
     "name": "stdout",
     "output_type": "stream",
     "text": [
      "   label  1x1  1x2  1x3  1x4  1x5  1x6  1x7  1x8  1x9  ...    28x19  28x20  \\\n",
      "0      5    0    0    0    0    0    0    0    0    0  ...        0      0   \n",
      "1      0    0    0    0    0    0    0    0    0    0  ...        0      0   \n",
      "2      4    0    0    0    0    0    0    0    0    0  ...        0      0   \n",
      "3      1    0    0    0    0    0    0    0    0    0  ...        0      0   \n",
      "4      9    0    0    0    0    0    0    0    0    0  ...        0      0   \n",
      "\n",
      "   28x21  28x22  28x23  28x24  28x25  28x26  28x27  28x28  \n",
      "0      0      0      0      0      0      0      0      0  \n",
      "1      0      0      0      0      0      0      0      0  \n",
      "2      0      0      0      0      0      0      0      0  \n",
      "3      0      0      0      0      0      0      0      0  \n",
      "4      0      0      0      0      0      0      0      0  \n",
      "\n",
      "[5 rows x 785 columns]\n",
      "   label  1x1  1x2  1x3  1x4  1x5  1x6  1x7  1x8  1x9  ...    28x19  28x20  \\\n",
      "0      7    0    0    0    0    0    0    0    0    0  ...        0      0   \n",
      "1      2    0    0    0    0    0    0    0    0    0  ...        0      0   \n",
      "2      1    0    0    0    0    0    0    0    0    0  ...        0      0   \n",
      "3      0    0    0    0    0    0    0    0    0    0  ...        0      0   \n",
      "4      4    0    0    0    0    0    0    0    0    0  ...        0      0   \n",
      "\n",
      "   28x21  28x22  28x23  28x24  28x25  28x26  28x27  28x28  \n",
      "0      0      0      0      0      0      0      0      0  \n",
      "1      0      0      0      0      0      0      0      0  \n",
      "2      0      0      0      0      0      0      0      0  \n",
      "3      0      0      0      0      0      0      0      0  \n",
      "4      0      0      0      0      0      0      0      0  \n",
      "\n",
      "[5 rows x 785 columns]\n"
     ]
    }
   ],
   "source": [
    "import pandas as pd\n",
    "\n",
    "# Load the data from our CSV\n",
    "training = pd.read_csv('mnist-data/mnist_train.csv')\n",
    "test = pd.read_csv('mnist-data/mnist_test.csv')\n",
    "\n",
    "# Let's see our first 5 rows:\n",
    "print(training.head())\n",
    "print(test.head())"
   ]
  },
  {
   "cell_type": "markdown",
   "metadata": {},
   "source": [
    "As I mentioned earlier: Our data here is actually 28 X 28 pixel picuture digested into 784 columns, each representing the intensity of a particular pixel. Column number 1 is our label. How many pieces of data come in the full set?\n",
    "\n",
    "FYI: The key ML jargon below is 'shape'. Shape represents the dimensions of the data you're working here. The numbers printed here represent (Nubmber of rows, number of columns)."
   ]
  },
  {
   "cell_type": "code",
   "execution_count": 15,
   "metadata": {},
   "outputs": [
    {
     "name": "stdout",
     "output_type": "stream",
     "text": [
      "training: (60000, 785)\n",
      "test: (10000, 785)\n"
     ]
    }
   ],
   "source": [
    "print(f'training: {training.shape}')\n",
    "print(f'test: {test.shape}')"
   ]
  },
  {
   "cell_type": "markdown",
   "metadata": {},
   "source": [
    "Ok, so we have 60,000 pieces of traning data and 10,000 for testing. The data already came with the train vs test split. Let's make the label vs data split.\n",
    "\n",
    "We saw in the head command that the label column is literally called 'label'"
   ]
  },
  {
   "cell_type": "code",
   "execution_count": 3,
   "metadata": {
    "scrolled": true
   },
   "outputs": [
    {
     "name": "stdout",
     "output_type": "stream",
     "text": [
      "training_labels: (60000,)\n",
      "training_data: (60000, 784)\n",
      "test_labels: (10000,)\n",
      "test_data: (10000, 784)\n",
      "training_labels.head():\n",
      "0    5\n",
      "1    0\n",
      "2    4\n",
      "3    1\n",
      "4    9\n",
      "Name: label, dtype: int64\n",
      "test_data.head():\n",
      "   1x1  1x2  1x3  1x4  1x5  1x6  1x7  1x8  1x9  1x10  ...    28x19  28x20  \\\n",
      "0    0    0    0    0    0    0    0    0    0     0  ...        0      0   \n",
      "1    0    0    0    0    0    0    0    0    0     0  ...        0      0   \n",
      "2    0    0    0    0    0    0    0    0    0     0  ...        0      0   \n",
      "3    0    0    0    0    0    0    0    0    0     0  ...        0      0   \n",
      "4    0    0    0    0    0    0    0    0    0     0  ...        0      0   \n",
      "\n",
      "   28x21  28x22  28x23  28x24  28x25  28x26  28x27  28x28  \n",
      "0      0      0      0      0      0      0      0      0  \n",
      "1      0      0      0      0      0      0      0      0  \n",
      "2      0      0      0      0      0      0      0      0  \n",
      "3      0      0      0      0      0      0      0      0  \n",
      "4      0      0      0      0      0      0      0      0  \n",
      "\n",
      "[5 rows x 784 columns]\n"
     ]
    }
   ],
   "source": [
    "# Make a new dataframe using only the labels\n",
    "training_labels = training.label\n",
    "# Make a new dataframe, but just drop the labels column\n",
    "# 'axis=1' means drop the column heading too.\n",
    "training_data = training.drop('label', axis=1)\n",
    "test_labels = test.label\n",
    "test_data = test.drop('label', axis=1)\n",
    "\n",
    "# Let's confirm we get the right shapes.\n",
    "# We should expect a single column for the labels and 784 for the data.\n",
    "print(f'training_labels: {training_labels.shape}')\n",
    "print(f'training_data: {training_data.shape}')\n",
    "print(f'test_labels: {test_labels.shape}')\n",
    "print(f'test_data: {test_data.shape}')\n",
    "\n",
    "# Let's also give the data a visual once-over\n",
    "print('training_labels.head():')\n",
    "print(training_labels.head())\n",
    "print('test_data.head():')\n",
    "print(test_data.head())\n"
   ]
  },
  {
   "cell_type": "markdown",
   "metadata": {},
   "source": [
    "#### 784 columns is....boring\n",
    "\n",
    "Let's have a little data exploration side bar.\n",
    "\n",
    "1. I want to see what our numbers actually look like. Creating a handwritten digit reconizer on handwritten digits that you've never seen feels silly.\n",
    "\n",
    "2. Once we have a model trained, I'd like to explore what digits it gets wrong. What if I can't tell what the digit is either?\n",
    "\n",
    "We're going to use matplotlib's imshow for this task. This library is for creating 2D graphs in python.\n",
    "\n",
    "I use the term *features* in the comments below. Note that that's a formal term in machine learning. It really just means the all of the columns of data that get fed into the machine learning algorithm, minus the label or target column. In our case the features are all of the columns representing pixel intensity in our picutes."
   ]
  },
  {
   "cell_type": "code",
   "execution_count": 38,
   "metadata": {},
   "outputs": [
    {
     "data": {
      "image/png": "[encoded data removed]",
      "text/plain": [
       "<Figure size 432x288 with 1 Axes>"
      ]
     },
     "metadata": {},
     "output_type": "display_data"
    }
   ],
   "source": [
    "# Let's matplotlib do it's magic inside of the notebook:\n",
    "%matplotlib inline\n",
    "\n",
    "import matplotlib\n",
    "import matplotlib.pyplot as plt\n",
    "\n",
    "# Let's load a random sample digit from the dataframe.\n",
    "# If you've been actively following along I reccomend mashing that 'Run' button a few times.\n",
    "our_number = training_data.sample(n=1)\n",
    "\n",
    "# Let's take our flat 784 features and reshape it into a 28x28 graph\n",
    "# Note that pandas doesn't have a reshape method, but pandas is built on numpy\n",
    "# and numpy has reshape. Access the numpy methods with values.reshape()\n",
    "our_number_shaped = our_number.values.reshape(28, 28)\n",
    "\n",
    "# cmap=matplotlib.cm.binary: \"Make bigger numbers darker\"\n",
    "plt.imshow(our_number_shaped, cmap=matplotlib.cm.binary)\n",
    "plt.axis(\"off\")\n",
    "plt.show()\n",
    "\n"
   ]
  },
  {
   "cell_type": "markdown",
   "metadata": {},
   "source": [
    "# Time to see what this puppy can do\n",
    "\n",
    "We now have a bigger, meaner dataset. Let run the something akin to our \"do it big\" pipeline, but incorporating our lessons learned.\n",
    "\n",
    "I'm not going to mark this code up as much. We've already explored it before. Just note:\n",
    "\n",
    "1. The use of our new data.\n",
    "2. Given the increased size of the dataset, I'm lowering the population size back down to 20. This dataset will take much longer per individual pipeline."
   ]
  },
  {
   "cell_type": "code",
   "execution_count": null,
   "metadata": {
    "scrolled": false
   },
   "outputs": [
    {
     "name": "stdout",
     "output_type": "stream",
     "text": [
      "Warning: xgboost.XGBClassifier is not available and will not be used by TPOT.\n",
      "Generation 1 - Current best internal CV score: 0.9113000880027429\n",
      "Generation 3 - Current best internal CV score: 0.9115168394202222\n",
      "Generation 4 - Current best internal CV score: 0.9127834949991644\n",
      "Generation 5 - Current best internal CV score: 0.9147335715485821\n",
      "Generation 6 - Current best internal CV score: 0.9152667826606102\n",
      "Generation 13 - Current best internal CV score: 0.9154835187969583\n",
      "Generation 14 - Current best internal CV score: 0.9157668326564613\n",
      "Generation 15 - Current best internal CV score: 0.9165667299923047\n",
      "Generation 17 - Current best internal CV score: 0.9215666886610293\n",
      "Generation 18 - Current best internal CV score: 0.9579333233149008\n",
      "Generation 31 - Current best internal CV score: 0.9617832097310728\n",
      "Generation 37 - Current best internal CV score: 0.9668832906676232\n",
      "Generation 39 - Current best internal CV score: 0.9685000616054886\n",
      "Generation 56 - Current best internal CV score: 0.9691833005267713\n",
      "Generation 57 - Current best internal CV score: 0.96948338808337\n",
      "Generation 61 - Current best internal CV score: 0.9698499186761739\n",
      "Generation 64 - Current best internal CV score: 0.9699834298007317\n"
     ]
    },
    {
     "name": "stderr",
     "output_type": "stream",
     "text": [
      "Optimization Progress: 1855pipeline [54:25:43, 990.44s/pipeline] "
     ]
    }
   ],
   "source": [
    "tpot = TPOTClassifier(max_time_mins=4320, population_size=20, n_jobs=3,\n",
    "                      periodic_checkpoint_folder='./mnist-tpot-checkpoint-3',\n",
    "                      early_stop=150, verbosity=2)\n",
    "tpot.fit(training_data, training_labels)\n",
    "print(tpot.score(test_data, test_labels))\n",
    "tpot.export('tpot_mnist_pipeline_v3.py')"
   ]
  },
  {
   "cell_type": "markdown",
   "metadata": {},
   "source": [
    "#### Another early stop\n",
    "\n",
    "The middle of the night Windows reboot struck last night. We made it 64 generations, 54 hours, and 96.99% accuracy into the last traning. This will acctually be a good opportunity to look at the pipeline that TPOT produced and get our own numbers for accuracy on the testing data.\n",
    "\n",
    "Remember, we segt out checkoutpoint folder using `periodic_checkpoint_folder='./mnist-tpot-checkpoint-3'`. The most advanced pipeline in that directory is `pipeline_2018.08.15_02-58-33.py`. Here's the code with my comments:\n",
    "\n",
    "```python\n",
    "#Numpy is the scientific calculator of python.\n",
    "import numpy as np\n",
    "import pandas as pd\n",
    "# Importing the actual ML alogrithms that will be used by the pipeline\n",
    "from sklearn.ensemble import RandomForestClassifier\n",
    "from sklearn.linear_model import LogisticRegression\n",
    "# Importing other sklearn utils. Will address lower down.\n",
    "from sklearn.model_selection import train_test_split\n",
    "from sklearn.pipeline import make_pipeline, make_union\n",
    "from sklearn.preprocessing import MinMaxScaler\n",
    "# Importing a few TPOT utils.\n",
    "from tpot.builtins import OneHotEncoder, StackingEstimator\n",
    "\n",
    "# Load your data:\n",
    "tpot_data = pd.read_csv('PATH/TO/DATA/FILE', sep='COLUMN_SEPARATOR', dtype=np.float64)\n",
    "# Pull out your features. Note that in this code they assume the label column is named 'target'.\n",
    "features = tpot_data.drop('target', axis=1).values\n",
    "# Create the 4 way split.\n",
    "training_features, testing_features, training_target, testing_target = \\\n",
    "            train_test_split(features, tpot_data['target'].values, random_state=42)\n",
    "\n",
    "# Score on the training set was:0.9699834298007317\n",
    "# We're going to break this down in detail below\n",
    "exported_pipeline = make_pipeline(\n",
    "    StackingEstimator(estimator=RandomForestClassifier(bootstrap=True, criterion=\"gini\", max_features=0.05, min_samples_leaf=1, min_samples_split=6, n_estimators=100)),\n",
    "    OneHotEncoder(minimum_fraction=0.25, sparse=False),\n",
    "    MinMaxScaler(),\n",
    "    LogisticRegression(C=25.0, dual=False, penalty=\"l1\")\n",
    ")\n",
    "\n",
    "# Train a model using the new pipeline\n",
    "exported_pipeline.fit(training_features, training_target)\n",
    "# Feed test features to the trained model.\n",
    "results = exported_pipeline.predict(testing_features)\n",
    "```\n",
    "\n",
    "### Our pipeline\n",
    "\n",
    "Let's try to make sense of each step in `make_pipeline`.\n",
    "\n",
    "- [StackingEstimator](https://github.com/EpistasisLab/tpot/blob/master/tpot/builtins/stacking_estimator.py) - TPOT class used to create synthetic features to feed into the models. \n",
    "    - [RandomForestClassifier](http://scikit-learn.org/stable/modules/generated/sklearn.ensemble.RandomForestClassifier.html) - This is the machine learning algorithm that is used to transform the features that are later fed back into other machine learning algorithms. [Random forests](https://en.wikipedia.org/wiki/Random_forest) consist of [decision trees](https://en.wikipedia.org/wiki/Decision_tree_learning). These desicions trees are small machine learning model themselves. Each tree is trained on a random subset of the data. We then combine the output of all of the trees (the forest) for our final output. The fact that all of the smaller models are trained on random sub sets of data helps prevent overfitting.\n",
    "        - bootstrap = Use random samples of data for each tree.\n",
    "        - criterion = This is the function that is used to construct the decision trees. \"gini\" is the default and should be left that way. “entropy”, the alternative, is slower and only slightly better sometimes.\n",
    "        - max_features = The number of features to consider when determining the splits between classes in the classifer (this is at the tree level).\n",
    "        - min_samples_leaf = \"Leaves\" are the classes that the tree will classify the features into. This is saying we need at least 1 sample of a particualr class in that tree in order to create a leaf for the class.\n",
    "        - min_samples_split = The minimum number of samples needed to make the decision to split a leaf.\n",
    "        - n_estimators = The number of trees in the forest.\n",
    "\n",
    "\n",
    "- [OneHotEncoder](https://github.com/EpistasisLab/tpot/blob/master/tpot/builtins/one_hot_encoder.py) - Machine learning models tend to like descrete classes, rather than strings or values. One hot encoding technique for transforming data so that it fits this model better. For example, imagine you have a column that reads 'Car Make' and your individual items in the table have values like 'Chevy' or 'Ford'. One hot encoding creates a column for 'Chevy' and a column for 'Ford'. So your car that previously had \"Car Make: Ford\" would now have \"Chevy: 0, Ford: 1, BMW: 0\". \n",
    "\n",
    "    **Note** These features are not well documented. These are my best guesses\n",
    "    - minimum_fraction = Take the bottom X% of categories and catergorize under 'other'\n",
    "    - sparse = Whether we should assume there will be missing data\n",
    "\n",
    "\n",
    "- [MinMaxScaler](http://scikit-learn.org/stable/modules/generated/sklearn.preprocessing.MinMaxScaler.html) - Scales all of our feature to be 0-1, from 0-255. Note that at this point we're still transforming our data before feeding it into the final algorithm. We've used models to change the data, but we still don't have models that classify our picutes of digits into numbers yet.\n",
    "\n",
    "\n",
    "- [LogisticRegression](http://scikit-learn.org/stable/modules/generated/sklearn.linear_model.LogisticRegression.html) - [Here's a good walkthrough on logistic regression and classification](https://developers.google.com/machine-learning/crash-course/classification/video-lecture). Essentially, our model will calculate the likelihood that each picture is of a particular class. The model when then output the most likely class.\n",
    "\n",
    "    We need to talk about graphs, weights, and regularization to understand these next parameters.\n",
    "    \n",
    "    Machine learning can most simply be thought of as really complex graphs drawn by machines. Imagine you have a simple 2D graph with an X and Y axis. X is your feature and Y is your label. Imagine a scatter of datapoints on your graph. You do your best to draw a line that represents the data. Now if I remove all of the data points, just leave the line you drew, and give you a new value of X, you could give me a rough esimate of the new Y. The line that you drew is essentially a 'model' in machine learning.\n",
    "    \n",
    "    Now we need to exapand our graph to 3D space. Imagine three points floating in the air. These are your X, Y, and Z axis. You have to draw a line through these points. Where do you draw the line? The exact center of the three points? What if one of the values is twice as important as the other? You need to develop a function for determining how heavily you would weight the line toward one datapoint or the other. After you've figured out how to weight your data, you can imagine a series of these 3D points, a (weighted) line drawn through them, and the resulting model snaking around the room.\n",
    "    \n",
    "    Machine learning models do this, but they do it at much higher complexities than can be calcualted by a human. We just used 2D and 3D space. Our model is working with 60,000 pieces of traning data in 784D space.\n",
    "    \n",
    "    So now that we understand that weights are used to determine how strongly certain nodes in our graph are linked, we can talk regularization.\n",
    "\n",
    "    Regularization is another very important concept in machine learning. Large outliers in our data are going to skew results and cause overfitting. We 'regularize' the data by bringing the **weights** all closer to the center (closer to zero). All of our arguements revolve around how the model should regularize. We're telling the model how it shoud tweak weights while it's calculating our model.\n",
    "    \n",
    "    - C = Smaller values mean stronger regularization\n",
    "    - dual = I'm not sure...I can't find any resources that aren't more math than I know. The docs say you can only use this with l2 regularization, and we're using l1, so I don't think this matters anyway.\n",
    "    - penalty = Set l1 or l2 reqularization. L1 will drive weights to zero, whereas l2 will just drive weights close to zero.\n",
    "\n",
    "### Testing our pipeline\n",
    "\n",
    "Due to our early stop we didn't get to see how our newest pipeline performed on the testing data. Let's edit the pipeline code TPOT gave us and see how it works."
   ]
  },
  {
   "cell_type": "code",
   "execution_count": 7,
   "metadata": {},
   "outputs": [
    {
     "name": "stdout",
     "output_type": "stream",
     "text": [
      "Testing accuracy: 0.9716\n"
     ]
    }
   ],
   "source": [
    "import numpy as np\n",
    "import pandas as pd\n",
    "from sklearn.ensemble import RandomForestClassifier\n",
    "from sklearn.linear_model import LogisticRegression\n",
    "from sklearn.model_selection import train_test_split\n",
    "from sklearn.pipeline import make_pipeline, make_union\n",
    "from sklearn.preprocessing import MinMaxScaler\n",
    "from tpot.builtins import OneHotEncoder, StackingEstimator\n",
    "\n",
    "# TPOT's pipeline boilerplate has some expectations around how the data should look.\n",
    "# I'm going just use our code from earlier, updating 'data' to our new 10 cent word, 'feature'.\n",
    "training = pd.read_csv('mnist-data/mnist_train.csv')\n",
    "test = pd.read_csv('mnist-data/mnist_test.csv')\n",
    "training_labels = training.label\n",
    "training_features = training.drop('label', axis=1)\n",
    "test_labels = test.label\n",
    "test_features = test.drop('label', axis=1)\n",
    "\n",
    "# Score on the training set was:0.9699834298007317\n",
    "exported_pipeline = make_pipeline(\n",
    "    StackingEstimator(estimator=RandomForestClassifier(bootstrap=True, criterion=\"gini\", max_features=0.05, min_samples_leaf=1, min_samples_split=6, n_estimators=100)),\n",
    "    OneHotEncoder(minimum_fraction=0.25, sparse=False),\n",
    "    MinMaxScaler(),\n",
    "    LogisticRegression(C=25.0, dual=False, penalty=\"l1\")\n",
    ")\n",
    "\n",
    "# This actually trains our model on our pipeline\n",
    "exported_pipeline.fit(training_features, training_labels)\n",
    "# Let's see our accuracy on testing data.\n",
    "print(f'Testing accuracy: {exported_pipeline.score(test_features, test_labels)}')\n"
   ]
  },
  {
   "cell_type": "markdown",
   "metadata": {},
   "source": [
    "### How'd we do?\n",
    "\n",
    "Below is the chart with trainging and testing accuracy for all three runs. The third run gave us less accuracy than before, but we were also interrupted early.\n",
    "\n",
    "|Run Num | Training Accuracy | Testing Accuracy|\n",
    "|--------|-------------------|-----------------|\n",
    "|1       |98.59%             |98.66%           |\n",
    "|2       |99.40%             |98.44%           |\n",
    "|3       |96.99%             |97.16%           |\n",
    "\n",
    "### Let's dig through our data\n",
    "\n",
    "Below I'm creating a function to pull out a specific number, print its index, label, and prediction, then plots the picture."
   ]
  },
  {
   "cell_type": "code",
   "execution_count": 60,
   "metadata": {},
   "outputs": [
    {
     "name": "stdout",
     "output_type": "stream",
     "text": [
      "Index: 5003\n",
      "Label: 8\n",
      "Prediction: 8\n"
     ]
    },
    {
     "data": {
      "image/png": "[encoded data removed]",
      "text/plain": [
       "<Figure size 432x288 with 1 Axes>"
      ]
     },
     "metadata": {},
     "output_type": "display_data"
    }
   ],
   "source": [
    "%matplotlib inline\n",
    "import matplotlib\n",
    "import matplotlib.pyplot as plt\n",
    "\n",
    "def print_prediction(index, test_features, test_labels):\n",
    "\n",
    "    # iloc is a pandas method that allows to access dataframe rows by index number\n",
    "    our_number = test_features.iloc[index]\n",
    "\n",
    "    # Reshape our data. We need a 28x28 array for graphing and a single row for prediction.\n",
    "    our_number_shaped_for_graphing = our_number.values.reshape(28, 28)\n",
    "    our_number_shaped_for_prediction = our_number.values.reshape(1, -1)\n",
    "\n",
    "    print(f'Index: {index}')\n",
    "    print(f'Label: {test_labels.iloc[index]}')\n",
    "    # exported_pipeline.predict does our actual prediction.\n",
    "    # This returns a list, so we're just grabbing the single return value with [0]\n",
    "    print(f'Prediction: {exported_pipeline.predict(our_number_shaped_for_prediction)[0]}')\n",
    "    plt.imshow(our_number_shaped_for_graphing, cmap=matplotlib.cm.binary)\n",
    "    plt.axis(\"off\")\n",
    "    plt.show()\n",
    "\n",
    "# Just a quick test\n",
    "index = 5003\n",
    "print_prediction(index, test_features, test_labels)"
   ]
  },
  {
   "cell_type": "markdown",
   "metadata": {},
   "source": [
    "#### What does the model get wrong?\n",
    "\n",
    "I'd like to see some examples of numbers the model gets wrong. Let's print out the first 20 incorrect digits."
   ]
  },
  {
   "cell_type": "code",
   "execution_count": 63,
   "metadata": {},
   "outputs": [
    {
     "name": "stdout",
     "output_type": "stream",
     "text": [
      "Index: 124\n",
      "Label: 7\n",
      "Prediction: 4\n"
     ]
    },
    {
     "data": {
      "image/png": "[encoded data removed]",
      "text/plain": [
       "<Figure size 432x288 with 1 Axes>"
      ]
     },
     "metadata": {},
     "output_type": "display_data"
    },
    {
     "name": "stdout",
     "output_type": "stream",
     "text": [
      "Index: 222\n",
      "Label: 2\n",
      "Prediction: 8\n"
     ]
    },
    {
     "data": {
      "image/png": "[encoded data removed]",
      "text/plain": [
       "<Figure size 432x288 with 1 Axes>"
      ]
     },
     "metadata": {},
     "output_type": "display_data"
    },
    {
     "name": "stdout",
     "output_type": "stream",
     "text": [
      "Index: 241\n",
      "Label: 9\n",
      "Prediction: 8\n"
     ]
    },
    {
     "data": {
      "image/png": "[encoded data removed]",
      "text/plain": [
       "<Figure size 432x288 with 1 Axes>"
      ]
     },
     "metadata": {},
     "output_type": "display_data"
    },
    {
     "name": "stdout",
     "output_type": "stream",
     "text": [
      "Index: 247\n",
      "Label: 4\n",
      "Prediction: 2\n"
     ]
    },
    {
     "data": {
      "image/png": "[encoded data removed]",
      "text/plain": [
       "<Figure size 432x288 with 1 Axes>"
      ]
     },
     "metadata": {},
     "output_type": "display_data"
    },
    {
     "name": "stdout",
     "output_type": "stream",
     "text": [
      "Index: 259\n",
      "Label: 6\n",
      "Prediction: 0\n"
     ]
    },
    {
     "data": {
      "image/png": "[encoded data removed]",
      "text/plain": [
       "<Figure size 432x288 with 1 Axes>"
      ]
     },
     "metadata": {},
     "output_type": "display_data"
    },
    {
     "name": "stdout",
     "output_type": "stream",
     "text": [
      "Index: 320\n",
      "Label: 9\n",
      "Prediction: 1\n"
     ]
    },
    {
     "data": {
      "image/png": "[encoded data removed]",
      "text/plain": [
       "<Figure size 432x288 with 1 Axes>"
      ]
     },
     "metadata": {},
     "output_type": "display_data"
    },
    {
     "name": "stdout",
     "output_type": "stream",
     "text": [
      "Index: 321\n",
      "Label: 2\n",
      "Prediction: 7\n"
     ]
    },
    {
     "data": {
      "image/png": "[encoded data removed]",
      "text/plain": [
       "<Figure size 432x288 with 1 Axes>"
      ]
     },
     "metadata": {},
     "output_type": "display_data"
    },
    {
     "name": "stdout",
     "output_type": "stream",
     "text": [
      "Index: 340\n",
      "Label: 5\n",
      "Prediction: 3\n"
     ]
    },
    {
     "data": {
      "image/png": "[encoded data removed]",
      "text/plain": [
       "<Figure size 432x288 with 1 Axes>"
      ]
     },
     "metadata": {},
     "output_type": "display_data"
    },
    {
     "name": "stdout",
     "output_type": "stream",
     "text": [
      "Index: 381\n",
      "Label: 3\n",
      "Prediction: 7\n"
     ]
    },
    {
     "data": {
      "image/png": "[encoded data removed]",
      "text/plain": [
       "<Figure size 432x288 with 1 Axes>"
      ]
     },
     "metadata": {},
     "output_type": "display_data"
    },
    {
     "name": "stdout",
     "output_type": "stream",
     "text": [
      "Index: 445\n",
      "Label: 6\n",
      "Prediction: 0\n"
     ]
    },
    {
     "data": {
      "image/png": "[encoded data removed]",
      "text/plain": [
       "<Figure size 432x288 with 1 Axes>"
      ]
     },
     "metadata": {},
     "output_type": "display_data"
    },
    {
     "name": "stdout",
     "output_type": "stream",
     "text": [
      "Index: 447\n",
      "Label: 4\n",
      "Prediction: 9\n"
     ]
    },
    {
     "data": {
      "image/png": "[encoded data removed]",
      "text/plain": [
       "<Figure size 432x288 with 1 Axes>"
      ]
     },
     "metadata": {},
     "output_type": "display_data"
    },
    {
     "name": "stdout",
     "output_type": "stream",
     "text": [
      "Index: 448\n",
      "Label: 9\n",
      "Prediction: 8\n"
     ]
    },
    {
     "data": {
      "image/png": "[encoded data removed]",
      "text/plain": [
       "<Figure size 432x288 with 1 Axes>"
      ]
     },
     "metadata": {},
     "output_type": "display_data"
    },
    {
     "name": "stdout",
     "output_type": "stream",
     "text": [
      "Index: 449\n",
      "Label: 3\n",
      "Prediction: 5\n"
     ]
    },
    {
     "data": {
      "image/png": "[encoded data removed]",
      "text/plain": [
       "<Figure size 432x288 with 1 Axes>"
      ]
     },
     "metadata": {},
     "output_type": "display_data"
    },
    {
     "name": "stdout",
     "output_type": "stream",
     "text": [
      "Index: 495\n",
      "Label: 8\n",
      "Prediction: 0\n"
     ]
    },
    {
     "data": {
      "image/png": "[encoded data removed]",
      "text/plain": [
       "<Figure size 432x288 with 1 Axes>"
      ]
     },
     "metadata": {},
     "output_type": "display_data"
    },
    {
     "name": "stdout",
     "output_type": "stream",
     "text": [
      "Index: 578\n",
      "Label: 3\n",
      "Prediction: 7\n"
     ]
    },
    {
     "data": {
      "image/png": "[encoded data removed]",
      "text/plain": [
       "<Figure size 432x288 with 1 Axes>"
      ]
     },
     "metadata": {},
     "output_type": "display_data"
    },
    {
     "name": "stdout",
     "output_type": "stream",
     "text": [
      "Index: 582\n",
      "Label: 8\n",
      "Prediction: 2\n"
     ]
    },
    {
     "data": {
      "image/png": "[encoded data removed]",
      "text/plain": [
       "<Figure size 432x288 with 1 Axes>"
      ]
     },
     "metadata": {},
     "output_type": "display_data"
    },
    {
     "name": "stdout",
     "output_type": "stream",
     "text": [
      "Index: 646\n",
      "Label: 2\n",
      "Prediction: 6\n"
     ]
    },
    {
     "data": {
      "image/png": "[encoded data removed]",
      "text/plain": [
       "<Figure size 432x288 with 1 Axes>"
      ]
     },
     "metadata": {},
     "output_type": "display_data"
    },
    {
     "name": "stdout",
     "output_type": "stream",
     "text": [
      "Index: 659\n",
      "Label: 2\n",
      "Prediction: 8\n"
     ]
    },
    {
     "data": {
      "image/png": "[encoded data removed]",
      "text/plain": [
       "<Figure size 432x288 with 1 Axes>"
      ]
     },
     "metadata": {},
     "output_type": "display_data"
    },
    {
     "name": "stdout",
     "output_type": "stream",
     "text": [
      "Index: 684\n",
      "Label: 7\n",
      "Prediction: 2\n"
     ]
    },
    {
     "data": {
      "image/png": "[encoded data removed]",
      "text/plain": [
       "<Figure size 432x288 with 1 Axes>"
      ]
     },
     "metadata": {},
     "output_type": "display_data"
    },
    {
     "name": "stdout",
     "output_type": "stream",
     "text": [
      "Index: 717\n",
      "Label: 0\n",
      "Prediction: 6\n"
     ]
    },
    {
     "data": {
      "image/png": "[encoded data removed]",
      "text/plain": [
       "<Figure size 432x288 with 1 Axes>"
      ]
     },
     "metadata": {},
     "output_type": "display_data"
    }
   ],
   "source": [
    "# Make predictions on the entire testing set\n",
    "test_results = exported_pipeline.predict(test_features)\n",
    "\n",
    "incorrect_predictions = []\n",
    "\n",
    "# Loop through our pandas data and fill out incorrect_predictions with indexs of incorrect guesses\n",
    "for index, digit in test_labels.iteritems():\n",
    "    if digit != test_results[index]:\n",
    "        incorrect_predictions.append(index)\n",
    "\n",
    "# Print out the first 20 incorrect guesses\n",
    "for index in range(20):\n",
    "    index = incorrect_predictions[index]\n",
    "    print_prediction(index, test_features, test_labels)\n"
   ]
  },
  {
   "cell_type": "markdown",
   "metadata": {},
   "source": [
    "### Thoughts on the incorrect guesses\n",
    "\n",
    "A few of the predictions aren't great. With many of them, you can tell what the model was 'thinking'. And a few of the handwritten digits seem to be written in an alien language. \n",
    "\n",
    "##### Bad predictions:\n",
    "\n",
    "Indexes 222, 241 and 495 are good examples of just plain bad perdictions. These might not be the best handwriting in the world, but our model should surely regonize these. This really does indicate to me that we have some serious room for improvement in our model. \n",
    "\n",
    "##### I see what you were doing:\n",
    "\n",
    "Indexes 320, 321, and 447 are images that I'm not sure if I would've been right or wrong on. They're ambigious in a way that I'm not suprised the algorithm got them wrong, but these might be potential accuracy points that could be picked up.\n",
    "\n",
    "##### New, alien languages:\n",
    "\n",
    "Indexes 582 and 646 are proof that we won't ever get 100% accuracy. There's no way I would expect even a human to get these right.\n",
    "\n",
    "# That's it\n",
    "\n",
    "We've trained 3 different models that are capable of reading hand written digits, explored the data, and covered some machine learning basics.\n",
    "\n",
    "I'm considering coming back to this notebook to make an actual tool where you could take a picture of a handwritten digit, upload it to a website, and get a prediction, but I've other things to work on for now.\n",
    "\n",
    "Here's some considerations to chew on when thinking about how you would turn this into a product:\n",
    "\n",
    "- How would you get the picutres into the right format? You'd have to take any picture that someone gave you, turn it into a 28x28 pixel, black and white picture, and convert the pixel intensity to a 0-255 scale. What if they used black paper with a white pen? What if the picture wasn't centered? \n",
    "\n",
    "- How would you export the model? As it currently stands, you don't actually have a trained model that you could move around. You literally have to train the model whenever you want to use it. You could run it as a deamon on a server and make prediction on the fly, but you'd still have to re-train on every reboot. You'd probably use [pickle](http://scikit-learn.org/stable/modules/model_persistence.html), but there are likley better methods."
   ]
  },
  {
   "cell_type": "code",
   "execution_count": null,
   "metadata": {},
   "outputs": [],
   "source": []
  }
 ],
 "metadata": {
  "kernelspec": {
   "display_name": "Python 3",
   "language": "python",
   "name": "python3"
  },
  "language_info": {
   "codemirror_mode": {
    "name": "ipython",
    "version": 3
   },
   "file_extension": ".py",
   "mimetype": "text/x-python",
   "name": "python",
   "nbconvert_exporter": "python",
   "pygments_lexer": "ipython3",
   "version": "3.6.5"
  }
 },
 "nbformat": 4,
 "nbformat_minor": 2
}
